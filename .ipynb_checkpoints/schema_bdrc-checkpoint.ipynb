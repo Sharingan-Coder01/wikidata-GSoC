{
 "cells": [
  {
   "cell_type": "code",
   "execution_count": 1,
   "metadata": {},
   "outputs": [],
   "source": [
    "import rdflib\n",
    "from rdflib import Namespace\n",
    "from rdflib import Graph, URIRef, Literal, BNode\n",
    "from rdflib.namespace import RDF, RDFS, OWL, FOAF, SKOS, NamespaceManager \n",
    "import csv "
   ]
  },
  {
   "cell_type": "code",
   "execution_count": 2,
   "metadata": {},
   "outputs": [
    {
     "ename": "NameError",
     "evalue": "name 'Namespace' is not defined",
     "output_type": "error",
     "traceback": [
      "\u001b[0;31m---------------------------------------------------------------------------\u001b[0m",
      "\u001b[0;31mNameError\u001b[0m                                 Traceback (most recent call last)",
      "\u001b[0;32m<ipython-input-2-b5e85b5de678>\u001b[0m in \u001b[0;36m<module>\u001b[0;34m\u001b[0m\n\u001b[0;32m----> 1\u001b[0;31m \u001b[0mBDR\u001b[0m \u001b[0;34m=\u001b[0m \u001b[0mNamespace\u001b[0m\u001b[0;34m(\u001b[0m\u001b[0;34m\"http://purl.bdrc.io/resource/\"\u001b[0m\u001b[0;34m)\u001b[0m\u001b[0;34m\u001b[0m\u001b[0;34m\u001b[0m\u001b[0m\n\u001b[0m\u001b[1;32m      2\u001b[0m \u001b[0mBDO\u001b[0m \u001b[0;34m=\u001b[0m \u001b[0mNamespace\u001b[0m\u001b[0;34m(\u001b[0m\u001b[0;34m\"http://purl.bdrc.io/ontology/core/\"\u001b[0m\u001b[0;34m)\u001b[0m\u001b[0;34m\u001b[0m\u001b[0;34m\u001b[0m\u001b[0m\n\u001b[1;32m      3\u001b[0m \u001b[0mBDA\u001b[0m \u001b[0;34m=\u001b[0m \u001b[0mNamespace\u001b[0m\u001b[0;34m(\u001b[0m\u001b[0;34m\"http://purl.bdrc.io/admindata/\"\u001b[0m\u001b[0;34m)\u001b[0m\u001b[0;34m\u001b[0m\u001b[0;34m\u001b[0m\u001b[0m\n\u001b[1;32m      4\u001b[0m \u001b[0mBDG\u001b[0m \u001b[0;34m=\u001b[0m \u001b[0mNamespace\u001b[0m\u001b[0;34m(\u001b[0m\u001b[0;34m\"http://purl.bdrc.io/graph/\"\u001b[0m\u001b[0;34m)\u001b[0m\u001b[0;34m\u001b[0m\u001b[0;34m\u001b[0m\u001b[0m\n\u001b[1;32m      5\u001b[0m \u001b[0mADM\u001b[0m \u001b[0;34m=\u001b[0m \u001b[0mNamespace\u001b[0m\u001b[0;34m(\u001b[0m\u001b[0;34m\"http://purl.bdrc.io/ontology/admin/\"\u001b[0m\u001b[0;34m)\u001b[0m\u001b[0;34m\u001b[0m\u001b[0;34m\u001b[0m\u001b[0m\n",
      "\u001b[0;31mNameError\u001b[0m: name 'Namespace' is not defined"
     ]
    }
   ],
   "source": [
    "BDR = Namespace(\"http://purl.bdrc.io/resource/\")\n",
    "BDO = Namespace(\"http://purl.bdrc.io/ontology/core/\")\n",
    "BDA = Namespace(\"http://purl.bdrc.io/admindata/\")\n",
    "BDG = Namespace(\"http://purl.bdrc.io/graph/\")\n",
    "ADM = Namespace(\"http://purl.bdrc.io/ontology/admin/\")\n",
    "WD = Namespace(\"http://www.wikidata.org/entity/\")\n",
    "WDT = Namespace(\"http://www.wikidata.org/prop/direct/\")\n",
    "DILA = Namespace(\"http://purl.dila.edu.tw/resource/\")\n",
    "VIAF = Namespace(\"http://viaf.org/viaf/\")\n",
    "\n",
    "NSM = NamespaceManager(rdflib.Graph())\n",
    "NSM.bind(\"bdr\", BDR)\n",
    "NSM.bind(\"bdg\", BDG)\n",
    "NSM.bind(\"bdo\", BDO)\n",
    "NSM.bind(\"bda\", BDA)\n",
    "NSM.bind(\"adm\", ADM)\n",
    "NSM.bind(\"skos\", SKOS)\n",
    "NSM.bind(\"rdfs\", RDFS)\n",
    "NSM.bind(\"wd\", WD)\n",
    "NSM.bind(\"owl\", OWL)\n",
    "NSM.bind(\"wdt\", WDT)\n",
    "NSM.bind(\"dila\", DILA)\n",
    "NSM.bind(\"viaf\", VIAF)"
   ]
  },
  {
   "cell_type": "code",
   "execution_count": 2,
   "metadata": {},
   "outputs": [],
   "source": [
    "g = rdflib.Graph()"
   ]
  },
  {
   "cell_type": "code",
   "execution_count": 3,
   "metadata": {},
   "outputs": [
    {
     "data": {
      "text/plain": [
       "<Graph identifier=N91aa91568dcf466aa59f2bfc4654a257 (<class 'rdflib.graph.Graph'>)>"
      ]
     },
     "execution_count": 3,
     "metadata": {},
     "output_type": "execute_result"
    }
   ],
   "source": [
    "g.parse('http://purl.bdrc.io/graph/P1583')"
   ]
  },
  {
   "cell_type": "code",
   "execution_count": 4,
   "metadata": {
    "scrolled": true
   },
   "outputs": [
    {
     "name": "stdout",
     "output_type": "stream",
     "text": [
      "231\n"
     ]
    }
   ],
   "source": [
    "print(len(g))"
   ]
  },
  {
   "cell_type": "code",
   "execution_count": null,
   "metadata": {},
   "outputs": [],
   "source": [
    "if rdflib.__version__ == '4.2.2':\n",
    "    x = rdflib.term._toPythonMapping.pop(rdflib.XSD['gYear'])"
   ]
  },
  {
   "cell_type": "code",
   "execution_count": null,
   "metadata": {},
   "outputs": [],
   "source": [
    "final_list = []\n",
    "\n",
    "for i, (sub, prop, obj) in enumerate(g):\n",
    "    nsshort, _, lname = NSM.compute_qname_strict(sub)\n",
    "    nsshort1, _, lname1 = NSM.compute_qname_strict(prop)    \n",
    "    str1 = nsshort + ':' + lname\n",
    "    str2 = nsshort1 + ':' + lname1\n",
    "    if (type(obj)) is rdflib.term.URIRef:\n",
    "        nsshort2, _, lname2 = NSM.compute_qname_strict(obj)\n",
    "        str3 = nsshort2 + ':' + lname2\n",
    "    \n",
    "    else:\n",
    "        str3 = obj\n",
    "    \n",
    "    listn = [i, str1, str2, str3]\n",
    "    final_list.append(listn)\n",
    "    if(i == len(g)):\n",
    "        break\n",
    "        \n",
    "print(final_list)"
   ]
  },
  {
   "cell_type": "code",
   "execution_count": null,
   "metadata": {},
   "outputs": [],
   "source": [
    "with open('map_creation.csv', \"w\") as f:\n",
    "    writer = csv.writer(f)\n",
    "    for row in final_list:\n",
    "        writer.writerow(row)"
   ]
  },
  {
   "cell_type": "code",
   "execution_count": 5,
   "metadata": {},
   "outputs": [
    {
     "name": "stdout",
     "output_type": "stream",
     "text": [
      "http://purl.bdrc.io/admindata/LG0648F5705843763B http://www.w3.org/1999/02/22-rdf-syntax-ns#type http://purl.bdrc.io/ontology/admin/UpdateData\n",
      "http://purl.bdrc.io/admindata/LG07470B2F724FDEA6 http://purl.bdrc.io/ontology/admin/logWho http://purl.bdrc.io/resource-nc/user/U00017\n",
      "http://purl.bdrc.io/resource/NTDAA95D67ECFAB1A7 http://purl.bdrc.io/ontology/core/contentLocationStatement p. 77\n",
      "http://purl.bdrc.io/resource/P1583 http://purl.bdrc.io/ontology/core/personStudentOf http://purl.bdrc.io/resource/P403\n",
      "http://purl.bdrc.io/resource/P1588 http://purl.bdrc.io/ontology/core/personTeacherOf http://purl.bdrc.io/resource/P1583\n",
      "http://purl.bdrc.io/resource/P1583 http://purl.bdrc.io/ontology/core/personTeacherOf http://purl.bdrc.io/resource/P2JM195\n",
      "http://purl.bdrc.io/resource/P1583 http://purl.bdrc.io/ontology/core/personTeacherOf http://purl.bdrc.io/resource/P2JM193\n",
      "http://purl.bdrc.io/resource/P1584 http://purl.bdrc.io/ontology/core/hasSon http://purl.bdrc.io/resource/P1583\n",
      "http://purl.bdrc.io/resource/P1583 http://purl.bdrc.io/ontology/core/personStudentOf http://purl.bdrc.io/resource/P2JM189\n",
      "http://purl.bdrc.io/resource/P2JM194 http://purl.bdrc.io/ontology/core/personStudentOf http://purl.bdrc.io/resource/P1583\n",
      "http://purl.bdrc.io/resource/P1583 http://purl.bdrc.io/ontology/core/personTeacherOf http://purl.bdrc.io/resource/P2JM202\n"
     ]
    }
   ],
   "source": [
    "for i, (sub, prop, obj) in enumerate(g):\n",
    "    print(sub, prop, obj)\n",
    "    if(i == 10):\n",
    "        break"
   ]
  },
  {
   "cell_type": "code",
   "execution_count": 6,
   "metadata": {},
   "outputs": [
    {
     "name": "stdout",
     "output_type": "stream",
     "text": [
      "@prefix adm: <http://purl.bdrc.io/ontology/admin/> .\n",
      "@prefix bda: <http://purl.bdrc.io/admindata/> .\n",
      "@prefix bdg: <http://purl.bdrc.io/graph/> .\n",
      "@prefix bdo: <http://purl.bdrc.io/ontology/core/> .\n",
      "@prefix bdr: <http://purl.bdrc.io/resource/> .\n",
      "@prefix bdu: <http://purl.bdrc.io/resource-nc/user/> .\n",
      "@prefix rdfs: <http://www.w3.org/2000/01/rdf-schema#> .\n",
      "@prefix skos: <http://www.w3.org/2004/02/skos/core#> .\n",
      "@prefix xsd: <http://www.w3.org/2001/XMLSchema#> .\n",
      "\n",
      "bda:P1583 a adm:AdminData ;\n",
      "    adm:adminAbout bdr:P1583 ;\n",
      "    adm:facetIndex 28 ;\n",
      "    adm:gitPath \"fa/P1583.trig\" ;\n",
      "    adm:gitRepo bda:GR0006 ;\n",
      "    adm:gitRevision \"940d33b105cf3d1b0edd92690e91f2bbccc984d7\" ;\n",
      "    adm:graphId bdg:P1583 ;\n",
      "    adm:logEntry bda:LG0648F5705843763B,\n",
      "        bda:LG07470B2F724FDEA6,\n",
      "        bda:LG5A51821BAE247EF6,\n",
      "        bda:LG650F49A48542C160,\n",
      "        bda:LG663351B387DD33FA,\n",
      "        bda:LG6B646336F5EE567D,\n",
      "        bda:LG757F77D8BA18E640,\n",
      "        bda:LG98727DC2859B3588,\n",
      "        bda:LGAF7D0940EAE3607E,\n",
      "        bda:LGE1683F39A3E5756E ;\n",
      "    adm:metadataLegal bda:LD_BDRC_CC0 ;\n",
      "    adm:status bda:StatusReleased ;\n",
      "    bdo:isRoot true .\n",
      "\n",
      "bda:LG0648F5705843763B a adm:UpdateData ;\n",
      "    adm:logDate \"2011-07-01T04:41:07.905000+00:00\"^^xsd:dateTime ;\n",
      "    adm:logMessage \"edited names\"@en ;\n",
      "    adm:logWho bdu:U00020 .\n",
      "\n",
      "bda:LG07470B2F724FDEA6 a adm:UpdateData ;\n",
      "    adm:logDate \"2021-05-03T11:03:27.541000+00:00\"^^xsd:dateTime ;\n",
      "    adm:logMessage \"released\"@en ;\n",
      "    adm:logWho bdu:U00017 .\n",
      "\n",
      "bda:LG5A51821BAE247EF6 a adm:UpdateData ;\n",
      "    adm:logDate \"2011-04-27T12:51:43.397000+00:00\"^^xsd:dateTime ;\n",
      "    adm:logMessage \"bcos\"@en ;\n",
      "    adm:logWho bdu:U00021 .\n",
      "\n",
      "bda:LG650F49A48542C160 a adm:UpdateData ;\n",
      "    adm:logDate \"2012-06-11T09:58:04.367000+00:00\"^^xsd:dateTime ;\n",
      "    adm:logMessage \"edited note\"@en ;\n",
      "    adm:logWho bdu:U00020 .\n",
      "\n",
      "bda:LG663351B387DD33FA a adm:UpdateData ;\n",
      "    adm:logDate \"2012-08-23T16:40:14.673000+00:00\"^^xsd:dateTime ;\n",
      "    adm:logMessage \"corrected title and name variant designations\"@en ;\n",
      "    adm:logWho bdu:U00012 .\n",
      "\n",
      "bda:LG6B646336F5EE567D a adm:UpdateData ;\n",
      "    adm:logDate \"2009-10-22T18:31:49.120000+00:00\"^^xsd:dateTime ;\n",
      "    adm:logMessage \"added name rgyal sras thugs mchog rtsal\"@en ;\n",
      "    adm:logWho bdu:U00016 .\n",
      "\n",
      "bda:LG757F77D8BA18E640 a adm:UpdateData ;\n",
      "    adm:logDate \"2008-07-02T17:03:41.750000+00:00\"^^xsd:dateTime ;\n",
      "    adm:logMessage \"added records\"@en ;\n",
      "    adm:logWho bdu:U00015 .\n",
      "\n",
      "bda:LG98727DC2859B3588 a adm:InitialDataCreation ;\n",
      "    adm:logWho bdu:U00001 .\n",
      "\n",
      "bda:LGAF7D0940EAE3607E a adm:UpdateData ;\n",
      "    adm:logDate \"2008-06-30T17:01:56.496000+00:00\"^^xsd:dateTime ;\n",
      "    adm:logMessage \"added records\"@en ;\n",
      "    adm:logWho bdu:U00015 .\n",
      "\n",
      "bda:LGE1683F39A3E5756E a adm:UpdateData ;\n",
      "    adm:logDate \"2011-08-02T16:53:12.770000+00:00\"^^xsd:dateTime ;\n",
      "    adm:logMessage \"added name in chinese\"@en ;\n",
      "    adm:logWho bdu:U00007 .\n",
      "\n",
      "bdr:EV00B857229AAA1BF0 a bdo:PersonDeath ;\n",
      "    bdo:onYear \"1364-01-01\"^^xsd:gYear .\n",
      "\n",
      "bdr:EV81A442B676BCDB2A a bdo:PersonOccupiesSeat ;\n",
      "    bdo:eventWhere bdr:G521 .\n",
      "\n",
      "bdr:EVDD9AB2BD104D0A7D a bdo:PersonBirth ;\n",
      "    bdo:eventWhere bdr:G967 ;\n",
      "    bdo:onYear \"1308-01-01\"^^xsd:gYear .\n",
      "\n",
      "bdr:NM27A9E6B52AE2AFD6 a bdo:PersonTitle ;\n",
      "    rdfs:label \"klong chen rab 'byams/\"@bo-x-ewts .\n",
      "\n",
      "bdr:NM6E5B539FC14B81F1 a bdo:PersonSecretInitiatoryName ;\n",
      "    rdfs:label \"rgyal sras thugs mchog rtsal/\"@bo-x-ewts .\n",
      "\n",
      "bdr:NM9C8DEB6FF7CEC129 a bdo:PersonPrimaryTitle ;\n",
      "    rdfs:label \"klong chen rab 'byams pa dri med 'od zer/\"@bo-x-ewts .\n",
      "\n",
      "bdr:NMBC6B2B658373DD69 a bdo:PersonTitle ;\n",
      "    rdfs:label \"bsam yas lung mang ba/\"@bo-x-ewts .\n",
      "\n",
      "bdr:NME2F236C649A1C622 a bdo:PersonPrimaryName ;\n",
      "    rdfs:label \"隆钦热降巴·赤墨俄色\"@zh-hans .\n",
      "\n",
      "bdr:NMED06EB68CC7F2B88 a bdo:PersonPrimaryName ;\n",
      "    rdfs:label \"dri med 'od zer/\"@bo-x-ewts .\n",
      "\n",
      "bdr:NMF942A81B0A73E4AA a bdo:PersonPersonalName ;\n",
      "    rdfs:label \"tshul khrims blo gros/\"@bo-x-ewts .\n",
      "\n",
      "bdr:NMFB54273C9888828B a bdo:PersonCommonName ;\n",
      "    rdfs:label \"klong chen pa/\"@bo-x-ewts .\n",
      "\n",
      "bdr:NT93D338F6A346B51D a bdo:Note ;\n",
      "    bdo:contentLocationStatement \"v. 2, pp.104-112\" ;\n",
      "    bdo:noteSource bdr:MW25268 ;\n",
      "    bdo:noteText \"\"\"biography\n",
      "dates: 1308-1363\"\"\"@en .\n",
      "\n",
      "bdr:NTABB307C08F280C09 a bdo:Note ;\n",
      "    bdo:contentLocationStatement \"251\" ;\n",
      "    bdo:noteSource bdr:MW27401 ;\n",
      "    bdo:noteText \"\"\"biodata\n",
      "\n",
      "Subsequent main lineage holders include lha btsun chen po/ gter chen 'gyur med rdo rje/ 'bri gung rin chen phun tshogs/ rig 'dzin 'jigs med gling pa/ mi 'gyur nam mkha'i rdo rje/ 'jam dbyangs mkhyen brtse'i dbang po\n",
      "\n",
      "Among them, 'jigs med gling pa received the nye brgyud via direct vision of klong chen pa.  'jigs med gling pa passed his lineage to rdo grub phrin las 'od zer, who passed it to mi 'gyur nam mkha' rdo rje, who in turn had a vision of klong chen pa and received the yang tig from him.\"\"\"@en .\n",
      "\n",
      "bdr:NTB25CDA7F05164BEA a bdo:Note ;\n",
      "    bdo:contentLocationStatement \"p. 6\" ;\n",
      "    bdo:noteSource bdr:MW19822 .\n",
      "\n",
      "bdr:NTDAA95D67ECFAB1A7 a bdo:Note ;\n",
      "    bdo:contentLocationStatement \"p. 77\" ;\n",
      "    bdo:noteSource bdr:MW19801 .\n",
      "\n",
      "bdr:NTE1C8F77F6AFC308F a bdo:Note ;\n",
      "    bdo:noteText \"\"\"Teachers (not recorded):\n",
      "Slob-dpon Dbang-ye, Ston-tshul, Khro-phu-ba, Rin-po-che Za-lung-pa (Zhang Tshal-pa'i Gdams ngag and Rgod-tshang-pa's teachings)\n",
      "1319. Takes rab-byung vows from the abbot of Bsam-yas Bsam-grub-rin-chen.\n",
      "1326. Enrolls in Gsang-phu Ne'u-thog for formal studies with Mkhan-rabs 15 Slob-dpon Btsan-rgod-pa and Mkhan-rabs 16 Bla-brang Chos-dpal-rgyal-mtshan.\n",
      "1338. Comes to Snye-phu Shug-gseb and teaches Snying thig.\"\"\"@en .\n",
      "\n",
      "bdr:NTF24F5C4DD8140821 a bdo:Note ;\n",
      "    bdo:noteText \"L. v.d. Kuijp has verified that the date of death of the subject was January, 1364. Also the unrecorded teacher Ston tshul may have been Btsun pa Ston tshul, Sa-skya scholar and author of at least two works on Tshad ma.\"@en .\n",
      "\n",
      "bdr:P1226 bdo:personTeacherOf bdr:P1583 .\n",
      "\n",
      "bdr:P144 bdo:personTeacherOf bdr:P1583 .\n",
      "\n",
      "bdr:P1586 bdo:personTeacherOf bdr:P1583 .\n",
      "\n",
      "bdr:P1587 bdo:personTeacherOf bdr:P1583 .\n",
      "\n",
      "bdr:P1588 bdo:personTeacherOf bdr:P1583 .\n",
      "\n",
      "bdr:P2085 bdo:personTeacherOf bdr:P1583 .\n",
      "\n",
      "bdr:P2349 bdo:personTeacherOf bdr:P1583 .\n",
      "\n",
      "bdr:P2JM183 bdo:personTeacherOf bdr:P1583 .\n",
      "\n",
      "bdr:P2JM184 bdo:personTeacherOf bdr:P1583 .\n",
      "\n",
      "bdr:P2JM185 bdo:personTeacherOf bdr:P1583 .\n",
      "\n",
      "bdr:P2JM186 bdo:personTeacherOf bdr:P1583 .\n",
      "\n",
      "bdr:P2JM187 bdo:personTeacherOf bdr:P1583 .\n",
      "\n",
      "bdr:P2JM188 bdo:personTeacherOf bdr:P1583 .\n",
      "\n",
      "bdr:P2JM189 bdo:personTeacherOf bdr:P1583 .\n",
      "\n",
      "bdr:P2JM190 bdo:personTeacherOf bdr:P1583 .\n",
      "\n",
      "bdr:P2JM191 bdo:personTeacherOf bdr:P1583 .\n",
      "\n",
      "bdr:P2JM192 bdo:personStudentOf bdr:P1583 .\n",
      "\n",
      "bdr:P2JM193 bdo:personStudentOf bdr:P1583 .\n",
      "\n",
      "bdr:P2JM194 bdo:personStudentOf bdr:P1583 .\n",
      "\n",
      "bdr:P2JM195 bdo:personStudentOf bdr:P1583 .\n",
      "\n",
      "bdr:P2JM196 bdo:personStudentOf bdr:P1583 .\n",
      "\n",
      "bdr:P2JM197 bdo:personStudentOf bdr:P1583 .\n",
      "\n",
      "bdr:P2JM198 bdo:personStudentOf bdr:P1583 .\n",
      "\n",
      "bdr:P2JM199 bdo:personStudentOf bdr:P1583 .\n",
      "\n",
      "bdr:P2JM200 bdo:personStudentOf bdr:P1583 .\n",
      "\n",
      "bdr:P2JM201 bdo:personStudentOf bdr:P1583 .\n",
      "\n",
      "bdr:P2JM202 bdo:personStudentOf bdr:P1583 .\n",
      "\n",
      "bdr:P2JM203 bdo:personStudentOf bdr:P1583 .\n",
      "\n",
      "bdr:P2JM204 bdo:personStudentOf bdr:P1583 .\n",
      "\n",
      "bdr:P2JM205 bdo:personStudentOf bdr:P1583 .\n",
      "\n",
      "bdr:P2JM206 bdo:personStudentOf bdr:P1583 .\n",
      "\n",
      "bdr:P2JM207 bdo:personStudentOf bdr:P1583 .\n",
      "\n",
      "bdr:P314 bdo:personStudentOf bdr:P1583 .\n",
      "\n",
      "bdr:P403 bdo:personTeacherOf bdr:P1583 .\n",
      "\n",
      "bdr:P4312 bdo:personTeacherOf bdr:P1583 .\n",
      "\n",
      "bdr:P4860 bdo:personTeacherOf bdr:P1583 .\n",
      "\n",
      "bdr:P5092 bdo:personStudentOf bdr:P1583 .\n",
      "\n",
      "bdr:P5911 bdo:personStudentOf bdr:P1583 .\n",
      "\n",
      "bdr:P66 bdo:personTeacherOf bdr:P1583 .\n",
      "\n",
      "bdr:P6861 bdo:personStudentOf bdr:P1583 .\n",
      "\n",
      "bdr:P7091 bdo:personStudentOf bdr:P1583 .\n",
      "\n",
      "bdr:P8527 bdo:personStudentOf bdr:P1583 .\n",
      "\n",
      "bdr:P8764 bdo:personStudentOf bdr:P1583 .\n",
      "\n",
      "bdr:P8784 bdo:personStudentOf bdr:P1583 .\n",
      "\n",
      "bdr:P1585 bdo:hasChild bdr:P1583 ;\n",
      "    bdo:hasSon bdr:P1583 ;\n",
      "    bdo:kinWith bdr:P1583 .\n",
      "\n",
      "bdr:P1584 bdo:hasChild bdr:P1583 ;\n",
      "    bdo:hasSon bdr:P1583 ;\n",
      "    bdo:kinWith bdr:P1583 ;\n",
      "    bdo:personTeacherOf bdr:P1583 .\n",
      "\n",
      "bdr:P8528 bdo:hasFather bdr:P1583 ;\n",
      "    bdo:hasParent bdr:P1583 ;\n",
      "    bdo:kinWith bdr:P1583 ;\n",
      "    bdo:personStudentOf bdr:P1583 .\n",
      "\n",
      "bdr:P1583 a bdo:Person ;\n",
      "    bdo:hasChild bdr:P8528 ;\n",
      "    bdo:hasFather bdr:P1584 ;\n",
      "    bdo:hasMother bdr:P1585 ;\n",
      "    bdo:hasParent bdr:P1584,\n",
      "        bdr:P1585 ;\n",
      "    bdo:hasSon bdr:P8528 ;\n",
      "    bdo:isRoot true ;\n",
      "    bdo:kinWith bdr:P1584,\n",
      "        bdr:P1585,\n",
      "        bdr:P8528 ;\n",
      "    bdo:note bdr:NT93D338F6A346B51D,\n",
      "        bdr:NTABB307C08F280C09,\n",
      "        bdr:NTB25CDA7F05164BEA,\n",
      "        bdr:NTDAA95D67ECFAB1A7,\n",
      "        bdr:NTE1C8F77F6AFC308F,\n",
      "        bdr:NTF24F5C4DD8140821 ;\n",
      "    bdo:personEvent bdr:EV00B857229AAA1BF0,\n",
      "        bdr:EV81A442B676BCDB2A,\n",
      "        bdr:EVDD9AB2BD104D0A7D ;\n",
      "    bdo:personGender bdr:GenderMale ;\n",
      "    bdo:personName bdr:NM27A9E6B52AE2AFD6,\n",
      "        bdr:NM6E5B539FC14B81F1,\n",
      "        bdr:NM9C8DEB6FF7CEC129,\n",
      "        bdr:NMBC6B2B658373DD69,\n",
      "        bdr:NME2F236C649A1C622,\n",
      "        bdr:NMED06EB68CC7F2B88,\n",
      "        bdr:NMF942A81B0A73E4AA,\n",
      "        bdr:NMFB54273C9888828B ;\n",
      "    bdo:personStudentOf bdr:P1226,\n",
      "        bdr:P144,\n",
      "        bdr:P1584,\n",
      "        bdr:P1586,\n",
      "        bdr:P1587,\n",
      "        bdr:P1588,\n",
      "        bdr:P2085,\n",
      "        bdr:P2349,\n",
      "        bdr:P2JM183,\n",
      "        bdr:P2JM184,\n",
      "        bdr:P2JM185,\n",
      "        bdr:P2JM186,\n",
      "        bdr:P2JM187,\n",
      "        bdr:P2JM188,\n",
      "        bdr:P2JM189,\n",
      "        bdr:P2JM190,\n",
      "        bdr:P2JM191,\n",
      "        bdr:P403,\n",
      "        bdr:P4312,\n",
      "        bdr:P4860,\n",
      "        bdr:P66 ;\n",
      "    bdo:personTeacherOf bdr:P2JM192,\n",
      "        bdr:P2JM193,\n",
      "        bdr:P2JM194,\n",
      "        bdr:P2JM195,\n",
      "        bdr:P2JM196,\n",
      "        bdr:P2JM197,\n",
      "        bdr:P2JM198,\n",
      "        bdr:P2JM199,\n",
      "        bdr:P2JM200,\n",
      "        bdr:P2JM201,\n",
      "        bdr:P2JM202,\n",
      "        bdr:P2JM203,\n",
      "        bdr:P2JM204,\n",
      "        bdr:P2JM205,\n",
      "        bdr:P2JM206,\n",
      "        bdr:P2JM207,\n",
      "        bdr:P314,\n",
      "        bdr:P5092,\n",
      "        bdr:P5911,\n",
      "        bdr:P6861,\n",
      "        bdr:P7091,\n",
      "        bdr:P8527,\n",
      "        bdr:P8528,\n",
      "        bdr:P8764,\n",
      "        bdr:P8784 ;\n",
      "    skos:prefLabel \"klong chen rab 'byams pa dri med 'od zer/\"@bo-x-ewts,\n",
      "        \"隆钦热降巴·赤墨俄色\"@zh-hans .\n",
      "\n",
      "\n"
     ]
    }
   ],
   "source": [
    "print(g.serialize(format = 'ttl').decode(\"u8\"))"
   ]
  },
  {
   "cell_type": "code",
   "execution_count": 7,
   "metadata": {},
   "outputs": [
    {
     "name": "stdout",
     "output_type": "stream",
     "text": [
      "http://purl.bdrc.io/admindata/LG0648F5705843763B http://www.w3.org/1999/02/22-rdf-syntax-ns#type http://purl.bdrc.io/ontology/admin/UpdateData\n"
     ]
    }
   ],
   "source": [
    "for s, p, o in g:\n",
    "    print(s, p, o)\n",
    "    break"
   ]
  },
  {
   "cell_type": "code",
   "execution_count": 8,
   "metadata": {},
   "outputs": [
    {
     "name": "stdout",
     "output_type": "stream",
     "text": [
      "[\"klong chen rab 'byams/\", 'bsam yas lung mang ba/', \"klong chen rab 'byams pa dri med 'od zer/\", '隆钦热降巴·赤墨俄色', 'rgyal sras thugs mchog rtsal/', 'tshul khrims blo gros/', 'klong chen pa/', \"dri med 'od zer/\"]\n",
      "['http://purl.bdrc.io/resource/NM27A9E6B52AE2AFD6', 'http://purl.bdrc.io/resource/NMBC6B2B658373DD69', 'http://purl.bdrc.io/resource/NM9C8DEB6FF7CEC129', 'http://purl.bdrc.io/resource/NME2F236C649A1C622', 'http://purl.bdrc.io/resource/NM6E5B539FC14B81F1', 'http://purl.bdrc.io/resource/NMF942A81B0A73E4AA', 'http://purl.bdrc.io/resource/NMFB54273C9888828B', 'http://purl.bdrc.io/resource/NMED06EB68CC7F2B88']\n"
     ]
    }
   ],
   "source": [
    "obj_list = []\n",
    "sub_list = []\n",
    "\n",
    "for s, o in g.subject_objects(RDFS.label):\n",
    "    obj_list.append(str(o))\n",
    "    sub_list.append(str(s))\n",
    "    \n",
    "print(obj_list)\n",
    "print(sub_list)"
   ]
  },
  {
   "cell_type": "code",
   "execution_count": 9,
   "metadata": {},
   "outputs": [],
   "source": [
    "rows = zip(sub_list, obj_list)\n",
    "\n",
    "with open('created_csv.csv', \"w\") as f:\n",
    "    writer = csv.writer(f)\n",
    "    for row in rows:\n",
    "        writer.writerow(row)"
   ]
  },
  {
   "cell_type": "code",
   "execution_count": 10,
   "metadata": {},
   "outputs": [
    {
     "name": "stdout",
     "output_type": "stream",
     "text": [
      "隆钦热降巴·赤墨俄色\n"
     ]
    }
   ],
   "source": [
    "for o in g.objects(None, RDFS.label):\n",
    "    if o.language == 'zh-hans':   #print those which are of this language \n",
    "        print(o)"
   ]
  },
  {
   "cell_type": "code",
   "execution_count": 11,
   "metadata": {},
   "outputs": [
    {
     "name": "stdout",
     "output_type": "stream",
     "text": [
      "bo-x-ewts\n",
      "bo-x-ewts\n",
      "bo-x-ewts\n",
      "zh-hans\n",
      "bo-x-ewts\n",
      "bo-x-ewts\n",
      "bo-x-ewts\n",
      "bo-x-ewts\n"
     ]
    }
   ],
   "source": [
    "for o in g.objects(None, RDFS.label):\n",
    "    print(o.language)"
   ]
  }
 ],
 "metadata": {
  "kernelspec": {
   "display_name": "Python 3",
   "language": "python",
   "name": "python3"
  },
  "language_info": {
   "codemirror_mode": {
    "name": "ipython",
    "version": 3
   },
   "file_extension": ".py",
   "mimetype": "text/x-python",
   "name": "python",
   "nbconvert_exporter": "python",
   "pygments_lexer": "ipython3",
   "version": "3.8.5"
  }
 },
 "nbformat": 4,
 "nbformat_minor": 4
}
